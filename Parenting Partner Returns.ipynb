{
 "cells": [
  {
   "cell_type": "code",
   "execution_count": 7,
   "metadata": {},
   "outputs": [
    {
     "name": "stdout",
     "output_type": "stream",
     "text": [
      "4\n",
      "3\n",
      "360 480\n",
      "420 540\n",
      "600 660\n",
      "3\n",
      "0 1440\n",
      "1 3\n",
      "2 4\n",
      "5\n",
      "99 150\n",
      "1 100\n",
      "100 301\n",
      "2 5\n",
      "150 250\n",
      "2\n",
      "0 720\n",
      "720 1440\n",
      "Case #1: CJC\n",
      "Case #2: IMPOSSIBLE\n",
      "Case #3: JCCJJ\n",
      "Case #4: CC\n"
     ]
    }
   ],
   "source": [
    "t= int(input())\n",
    "t1=t\n",
    "cs=1\n",
    "ans=list()\n",
    "while(t>0):\n",
    "    t=t-1\n",
    "    n=int(input())\n",
    "    C=0\n",
    "    J=0\n",
    "    st=\"\"\n",
    "    task=[]\n",
    "    t_cp=[]\n",
    "    st=[\"\" for x in range(n)]\n",
    "    for i in range(0,n):\n",
    "        a,b=[int(x) for x in input().split(\" \")]\n",
    "        task.append((i,a,b))\n",
    "        t_cp.append((i,a,b))\n",
    "    \n",
    "    t_cp.sort(key=lambda x:x[1])\n",
    "    \n",
    "    \n",
    "    for i,a,b in t_cp:\n",
    "        if(C<=a):\n",
    "            C=b\n",
    "            st[i]=\"C\"\n",
    "        elif(J<=a):\n",
    "            J=b\n",
    "            st[i]=\"J\"\n",
    "        else:\n",
    "            st=\"IMPOSSIBLE\"\n",
    "            break\n",
    "    ans.append([cs,\"\".join(st)])\n",
    "    cs=cs+1\n",
    "\n",
    "for i in range(0,t1):\n",
    "    print(\"Case #{}: {}\".format(ans[i][0],ans[i][1]))"
   ]
  },
  {
   "cell_type": "code",
   "execution_count": null,
   "metadata": {},
   "outputs": [],
   "source": []
  }
 ],
 "metadata": {
  "kernelspec": {
   "display_name": "Python 3",
   "language": "python",
   "name": "python3"
  },
  "language_info": {
   "codemirror_mode": {
    "name": "ipython",
    "version": 3
   },
   "file_extension": ".py",
   "mimetype": "text/x-python",
   "name": "python",
   "nbconvert_exporter": "python",
   "pygments_lexer": "ipython3",
   "version": "3.7.4"
  }
 },
 "nbformat": 4,
 "nbformat_minor": 4
}
