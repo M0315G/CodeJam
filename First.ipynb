{
 "cells": [
  {
   "cell_type": "code",
   "execution_count": 34,
   "metadata": {},
   "outputs": [
    {
     "name": "stdout",
     "output_type": "stream",
     "text": [
      "3\n",
      "4\n",
      "1 2 3 4\n",
      "2 1 4 3\n",
      "3 4 1 2\n",
      "4 3 2 1\n",
      "4\n",
      "2 2 2 2\n",
      "2 3 2 3\n",
      "2 2 2 3\n",
      "2 2 2 2\n",
      "3\n",
      "2 1 3\n",
      "1 3 2\n",
      "1 2 3\n",
      "Case #1: 4 0 0\n",
      "Case #1: 9 4 4\n",
      "Case #1: 8 0 2\n"
     ]
    }
   ],
   "source": [
    "t=int(input())\n",
    "t1=t\n",
    "cs=1\n",
    "ans=list()\n",
    "while(t>0):\n",
    "    t=t-1\n",
    "    n=int(input())\n",
    "    n1=n\n",
    "    row=dict()\n",
    "    i=0\n",
    "    col=list()\n",
    "    while(i<n1):\n",
    "        row[i]=[int(a) for a in input().split(\" \")]\n",
    "        col.append([0])\n",
    "        i=i+1\n",
    "    \n",
    "    tr=0\n",
    "    for i in range(0,len(row)):\n",
    "        k=0\n",
    "        for j in row[i]:\n",
    "            if(i==k):\n",
    "                tr=tr+j\n",
    "            col[k].append(j)\n",
    "            k=k+1\n",
    "    r=0\n",
    "    c=0\n",
    "    for i in range(0,len(row)):\n",
    "        if(len(row[i])!=len(set(row[i]))):\n",
    "            r=r+1\n",
    "        if(len(col[i])!=len(set(col[i]))):\n",
    "            c=c+1\n",
    "    ans.append([cs,tr,r,c])\n",
    "    cs=cs+1\n",
    "\n",
    "for i in range(0,t1):\n",
    "    print(\"Case #{}: {} {} {}\".format(ans[i][0],ans[i][1],ans[i][2],ans[i][3]))"
   ]
  },
  {
   "cell_type": "code",
   "execution_count": null,
   "metadata": {},
   "outputs": [],
   "source": []
  }
 ],
 "metadata": {
  "kernelspec": {
   "display_name": "Python 3",
   "language": "python",
   "name": "python3"
  },
  "language_info": {
   "codemirror_mode": {
    "name": "ipython",
    "version": 3
   },
   "file_extension": ".py",
   "mimetype": "text/x-python",
   "name": "python",
   "nbconvert_exporter": "python",
   "pygments_lexer": "ipython3",
   "version": "3.7.4"
  }
 },
 "nbformat": 4,
 "nbformat_minor": 2
}
