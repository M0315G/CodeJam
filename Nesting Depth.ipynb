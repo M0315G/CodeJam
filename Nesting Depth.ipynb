{
 "cells": [
  {
   "cell_type": "code",
   "execution_count": 10,
   "metadata": {},
   "outputs": [
    {
     "name": "stdout",
     "output_type": "stream",
     "text": [
      "1\n",
      "3251\n",
      "Case #1: (((3)2(((5))))1)\n"
     ]
    }
   ],
   "source": [
    "t= int(input())\n",
    "t1=t\n",
    "cs=1\n",
    "ans=list()\n",
    "while(t>0):\n",
    "    t=t-1\n",
    "    lst=[int(a) for a in str(input())]\n",
    "    s=\"\"\n",
    "    hist=lst[0]\n",
    "    resv=\"\"\n",
    "    for i in range(0,len(lst)):\n",
    "        j=0\n",
    "        fg=0\n",
    "        if(i==0):\n",
    "            while(j<lst[i]):\n",
    "                s=s+\"(\"\n",
    "                j=j+1\n",
    "                resv=resv+\")\"\n",
    "        \n",
    "            s=s+str(lst[i])\n",
    "            hist=lst[i]\n",
    "            continue\n",
    "        if(hist==lst[i]):\n",
    "            s=s+str(lst[i])\n",
    "            continue\n",
    "        elif(hist!=lst[i]):\n",
    "            if(hist>lst[i]):\n",
    "                fg=0\n",
    "                s=s+resv[0:hist-lst[i]]\n",
    "                resv=resv[hist-lst[i]:]\n",
    "                hist=lst[i]\n",
    "                s=s+str(lst[i])\n",
    "                continue\n",
    "            elif(hist<lst[i]):\n",
    "                fg=1\n",
    "        if(fg==1):\n",
    "            idx=lst[i]-hist\n",
    "        else:\n",
    "            idx=lst[i]\n",
    "        while(j<idx):\n",
    "            s=s+\"(\"\n",
    "            j=j+1\n",
    "            resv=resv+\")\"\n",
    "        \n",
    "        s=s+str(lst[i])\n",
    "        hist=lst[i]\n",
    "        \n",
    "    s=s+resv\n",
    "    ans.append([cs,s])\n",
    "    cs=cs+1\n",
    "\n",
    "for j in range(0,t1):\n",
    "    print(\"Case #{}: {}\".format(ans[j][0],ans[j][1]))"
   ]
  }
 ],
 "metadata": {
  "kernelspec": {
   "display_name": "Python 3",
   "language": "python",
   "name": "python3"
  },
  "language_info": {
   "codemirror_mode": {
    "name": "ipython",
    "version": 3
   },
   "file_extension": ".py",
   "mimetype": "text/x-python",
   "name": "python",
   "nbconvert_exporter": "python",
   "pygments_lexer": "ipython3",
   "version": "3.7.4"
  }
 },
 "nbformat": 4,
 "nbformat_minor": 4
}
